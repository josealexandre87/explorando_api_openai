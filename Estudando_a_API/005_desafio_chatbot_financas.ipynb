{
 "cells": [
  {
   "cell_type": "code",
   "execution_count": null,
   "metadata": {},
   "outputs": [],
   "source": [
    "import json\n",
    "import yfinance as yf\n",
    "\n",
    "import openai\n",
    "from dotenv import load_dotenv, find_dotenv\n",
    "\n",
    "_ = load_dotenv(find_dotenv())\n",
    "\n",
    "client = openai.Client()\n",
    "\n",
    "\n",
    "def retorna_cotacao_acao_historica(\n",
    "        ticker,\n",
    "        periodo='1mo'\n",
    "):\n",
    "    ticker_obj = yf.Ticker(f'{ticker}.SA')\n",
    "    hist = ticker_obj.history(period=periodo)['Close']\n",
    "    hist.index = hist.index.strftime('%Y-%m-%d')\n",
    "    hist = round(hist, 2)\n",
    "    if len(hist) > 30:\n",
    "        slice_size = int(len(hist) / 30)\n",
    "        hist = hist.iloc[::-slice_size][::-1]\n",
    "    return hist.to_json()\n",
    "\n",
    "\n",
    "tools = [\n",
    "    {\n",
    "        'type': 'function',\n",
    "        'function': {\n",
    "            'name': 'retorna_cotacao_acao_historica',\n",
    "            'description': 'Retorna a cotação diária histórica para uma ação da bovespa',\n",
    "            'parameters': {\n",
    "                'type': 'object',\n",
    "                'properties': {\n",
    "                    'ticker': {\n",
    "                        'type': 'string',\n",
    "                        'description': 'O ticker da ação. Exemplo: \"ABEV3\" para ambev, \"PETR4\" para petrobras, etc'\n",
    "                    },\n",
    "                    'periodo': {\n",
    "                        'type': 'string',\n",
    "                        'description': 'O período que será retornado de dados históriocos \\\n",
    "                                        sendo \"1mo\" equivalente a um mês de dados, \"1d\" a \\\n",
    "                                        1 dia e \"1y\" a 1 ano',\n",
    "                        'enum': [\"1d\",\"5d\",\"1mo\",\"6mo\",\"1y\",\"5y\",\"10y\",\"ytd\",\"max\"]\n",
    "                    }\n",
    "                }\n",
    "            }\n",
    "        }\n",
    "    }\n",
    "\n",
    "]\n",
    "\n",
    "funcoes_disponiveis = {'retorna_cotacao_acao_historica': retorna_cotacao_acao_historica}\n",
    "\n",
    "\n",
    "mensagens = [{'role': 'user', 'content': 'Qual é a cotação da ambev agora'}]\n",
    "\n",
    "resposta = client.chat.completions.create(\n",
    "    messages=mensagens,\n",
    "    model='gpt-3.5-turbo-0125',\n",
    "    tools=tools,\n",
    "    tool_choice='auto'\n",
    ")\n"
   ]
  },
  {
   "cell_type": "code",
   "execution_count": null,
   "metadata": {},
   "outputs": [],
   "source": [
    "tool_calls = resposta.choices[0].message.tool_calls\n",
    "\n",
    "if tool_calls:\n",
    "    mensagens.append(resposta.choices[0].message)\n",
    "    for tool_call in tool_calls:\n",
    "        func_name = tool_call.function.name\n",
    "        function_to_call = funcoes_disponiveis[func_name]\n",
    "        func_args = json.loads(tool_call.function.arguments)\n",
    "        func_return = function_to_call(**func_args)\n",
    "        mensagens.append({\n",
    "            'tool_call_id': tool_call.id,\n",
    "            'role': 'tool',\n",
    "            'name': func_name,\n",
    "            'content': func_return\n",
    "        })\n",
    "    segunda_resposta = client.chat.completions.create(\n",
    "        messages=mensagens,\n",
    "        model='gpt-3.5-turbo-0125',\n",
    "    )\n",
    "    mensagens.append(segunda_resposta.choices[0].message)\n"
   ]
  },
  {
   "cell_type": "code",
   "execution_count": null,
   "metadata": {},
   "outputs": [
    {
     "data": {
      "text/plain": [
       "'A cotação da ação da Ambev (ABEV3) agora é de R$ 12,54.'"
      ]
     },
     "metadata": {},
     "output_type": "display_data"
    }
   ],
   "source": [
    "segunda_resposta.choices[0].message.content"
   ]
  },
  {
   "cell_type": "code",
   "execution_count": null,
   "metadata": {},
   "outputs": [
    {
     "data": {
      "text/plain": [
       "'{\"2024-03-20\":12.54}'"
      ]
     },
     "metadata": {},
     "output_type": "display_data"
    }
   ],
   "source": [
    "func_name = tool_call.function.name\n",
    "function_to_call = funcoes_disponiveis[func_name]\n",
    "func_args = json.loads(tool_call.function.arguments)\n",
    "func_return = function_to_call(**func_args)\n",
    "\n",
    "\n",
    "func_return"
   ]
  },
  {
   "cell_type": "code",
   "execution_count": null,
   "metadata": {},
   "outputs": [
    {
     "data": {
      "text/plain": [
       "{'ticker': 'ABEV3', 'periodo': '1d'}"
      ]
     },
     "metadata": {},
     "output_type": "display_data"
    }
   ],
   "source": [
    "func_args"
   ]
  },
  {
   "cell_type": "code",
   "execution_count": null,
   "metadata": {},
   "outputs": [
    {
     "data": {
      "text/plain": [
       "ChatCompletionMessageToolCall(id='call_VDtRP7mzpaqlvklVZYkQc5jS', function=Function(arguments='{\"ticker\":\"ABEV3\",\"periodo\":\"1d\"}', name='retorna_cotacao_acao_historica'), type='function')"
      ]
     },
     "metadata": {},
     "output_type": "display_data"
    }
   ],
   "source": [
    "tool_call"
   ]
  },
  {
   "cell_type": "markdown",
   "metadata": {},
   "source": [
    "# Descrição do Código e do Contexto de Aprendizado\n",
    "\n",
    "## **O que é:**\n",
    "O código apresentado é uma implementação de um chatbot financeiro que interage com o usuário e utiliza a API da OpenAI para gerar respostas dinâmicas. O chatbot é capaz de processar a entrada do usuário, chamar funções externas (como obter a cotação histórica de uma ação), e integrar essas respostas às conversas geradas pelo modelo GPT.\n",
    "\n",
    "## **O que está sendo usado:**\n",
    "\n",
    "#### Bibliotecas Importadas:\n",
    "\n",
    " - **openai:** Interage com os modelos da OpenAI.\n",
    " - **yfinance:** Obtém dados financeiros, como cotações de ações.\n",
    " - **dotenv:** Gerencia variáveis de ambiente.\n",
    " - **json:** Trabalha com dados no formato JSON.\n",
    "\n",
    "#### Variáveis de Ambiente:\n",
    "\n",
    "A biblioteca dotenv é usada para carregar uma chave de API de um arquivo .env, evitando a exposição direta da chave no código-fonte.\n",
    "\n",
    "#### Função retorna_cotacao_acao_historica:\n",
    "\n",
    "Função que obtém o histórico de cotações de uma ação da Bovespa e retorna os dados no formato JSON. Essa função pode ser chamada dinamicamente pelo modelo GPT durante uma conversa.\n",
    "\n",
    "#### API da OpenAI:\n",
    "\n",
    "A API da OpenAI é usada para gerar texto com base em mensagens trocadas com o usuário. O código utiliza um modelo da série GPT-3.5 para processar a conversa.\n",
    "\n",
    "## **Para que serve:**\n",
    "\n",
    "O objetivo deste código é simular um chatbot financeiro que pode gerar respostas complexas e utilizar ferramentas externas (como a função de cotação de ações) em tempo real. Ele pode ser utilizado para obter informações financeiras e integrar essas respostas com a capacidade de linguagem do modelo GPT.\n",
    "\n",
    "## **Em que momento do aprendizado estamos:**\n",
    "\n",
    "Estamos no ponto de explorar como integrar funções externas com a API da OpenAI. O foco é demonstrar como utilizar o modelo GPT para gerar respostas dinâmicas e, ao mesmo tempo, habilitar a chamada de funções personalizadas dentro dessas respostas, como a obtenção de dados financeiros."
   ]
  }
 ],
 "metadata": {
  "kernelspec": {
   "display_name": "venv",
   "language": "python",
   "name": "python3"
  },
  "language_info": {
   "codemirror_mode": {
    "name": "ipython",
    "version": 3
   },
   "file_extension": ".py",
   "mimetype": "text/x-python",
   "name": "python",
   "nbconvert_exporter": "python",
   "pygments_lexer": "ipython3",
   "version": "3.12.4"
  }
 },
 "nbformat": 4,
 "nbformat_minor": 2
}
